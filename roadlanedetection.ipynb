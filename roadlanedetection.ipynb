{
  "nbformat": 4,
  "nbformat_minor": 0,
  "metadata": {
    "colab": {
      "provenance": [],
      "authorship_tag": "ABX9TyMZ0l6N/7eqKP0RFLMgXVcu",
      "include_colab_link": true
    },
    "kernelspec": {
      "name": "python3",
      "display_name": "Python 3"
    },
    "language_info": {
      "name": "python"
    }
  },
  "cells": [
    {
      "cell_type": "markdown",
      "metadata": {
        "id": "view-in-github",
        "colab_type": "text"
      },
      "source": [
        "<a href=\"https://colab.research.google.com/github/AkshayaAgarwal/Roadlanedetection/blob/main/roadlanedetection.ipynb\" target=\"_parent\"><img src=\"https://colab.research.google.com/assets/colab-badge.svg\" alt=\"Open In Colab\"/></a>"
      ]
    },
    {
      "cell_type": "code",
      "execution_count": 1,
      "metadata": {
        "id": "g9EbK4IN8OQ0"
      },
      "outputs": [],
      "source": [
        "!pip install -q opencv-python"
      ]
    },
    {
      "cell_type": "code",
      "source": [
        "import pandas as pd\n",
        "import numpy as np\n",
        "import cv2\n",
        "from google.colab.patches import cv2_imshow\n",
        "from moviepy import editor\n",
        "import moviepy"
      ],
      "metadata": {
        "id": "Gwaar9Qa8iv-"
      },
      "execution_count": 2,
      "outputs": []
    },
    {
      "cell_type": "code",
      "source": [
        "\n",
        "def region_selection(image):\n",
        "  mask = np.zeros_like(image)\n",
        "\n",
        "  if len(image.shape) > 2:\n",
        "    channel_count = image.shape[2]\n",
        "    igjnore_mask_color = (255,) * channel_count\n",
        "\n",
        "  else:\n",
        "    ignore_mask_color= 255\n",
        "\n",
        "    rows, cols = image.shape[:2]\n",
        "    bottom_left = [cols * 0.1, rows * 0.95]\n",
        "    top_left = [cols * 0.4, rows * 0.6]\n",
        "    bottom_right = [ cols * 0.9, rows * 0.95]\n",
        "    top_right = [cols * 0.6, rows * 0.6]\n",
        "    vertices = np.array([[bottom_left, top_left, top_right, bottom_right]], dtype=np.int32)\n",
        "\n",
        "    cv2.fillPoly(mask, vertices, ignore_mask_color)\n",
        "\n",
        "    masked_image= cv2.bitwise_and(image, mask)\n",
        "    return masked_image\n",
        "\n",
        "def hough_transform(image):\n",
        "\n",
        "  rho=1\n",
        "\n",
        "  theta = np.pi/180\n",
        "\n",
        "  threshold = 20\n",
        "\n",
        "  minLineLength = 20\n",
        "\n",
        "  maxLineGap = 500\n",
        "\n",
        "  return cv2.HoughLinesP(image, rho = rho, theta = theta, threshold = threshold,\n",
        "                         minLineLength = minLineLength, maxLineGap = maxLineGap)\n",
        "\n",
        "\n",
        "\n",
        "def average_slope_intercept(lines):\n",
        "    \"\"\"\n",
        "    Find the slope and intercept of the left and right lanes of each image.\n",
        "    Parameters:\n",
        "        lines: output from Hough Transform\n",
        "    \"\"\"\n",
        "    left_lines    = [] #(slope, intercept)\n",
        "    left_weights  = [] #(length,)\n",
        "    right_lines   = [] #(slope, intercept)\n",
        "    right_weights = [] #(length,)\n",
        "\n",
        "    for line in lines:\n",
        "        for x1, y1, x2, y2 in line:\n",
        "            if x1 == x2:\n",
        "                continue\n",
        "            # calculating slope of a line\n",
        "            slope = (y2 - y1) / (x2 - x1)\n",
        "            # calculating intercept of a line\n",
        "            intercept = y1 - (slope * x1)\n",
        "            # calculating length of a line\n",
        "            length = np.sqrt(((y2 - y1) ** 2) + ((x2 - x1) ** 2))\n",
        "            # slope of left lane is negative and for right lane slope is positive\n",
        "            if slope < 0:\n",
        "                left_lines.append((slope, intercept))\n",
        "                left_weights.append((length))\n",
        "            else:\n",
        "                right_lines.append((slope, intercept))\n",
        "                right_weights.append((length))\n",
        "    #\n",
        "    left_lane  = np.dot(left_weights,  left_lines) / np.sum(left_weights)  if len(left_weights) > 0 else None\n",
        "    right_lane = np.dot(right_weights, right_lines) / np.sum(right_weights) if len(right_weights) > 0 else None\n",
        "    return left_lane, right_lane\n",
        "\n",
        "def pixel_points(y1, y2, line):\n",
        "    \"\"\"\n",
        "    Converts the slope and intercept of each line into pixel points.\n",
        "        Parameters:\n",
        "            y1: y-value of the line's starting point.\n",
        "            y2: y-value of the line's end point.\n",
        "            line: The slope and intercept of the line.\n",
        "    \"\"\"\n",
        "    if line is None:\n",
        "        return None\n",
        "    slope, intercept = line\n",
        "    x1 = int((y1 - intercept)/slope)\n",
        "    x2 = int((y2 - intercept)/slope)\n",
        "    y1 = int(y1)\n",
        "    y2 = int(y2)\n",
        "    return ((x1, y1), (x2, y2))\n",
        "\n",
        "def lane_lines(image, lines):\n",
        "    \"\"\"\n",
        "    Create full lenght lines from pixel points.\n",
        "        Parameters:\n",
        "            image: The input test image.\n",
        "            lines: The output lines from Hough Transform.\n",
        "    \"\"\"\n",
        "    left_lane, right_lane = average_slope_intercept(lines)\n",
        "    y1 = image.shape[0]\n",
        "    y2 = y1 * 0.6\n",
        "    left_line  = pixel_points(y1, y2, left_lane)\n",
        "    right_line = pixel_points(y1, y2, right_lane)\n",
        "    return left_line, right_line\n",
        "\n",
        "\n",
        "def draw_lane_lines(image, lines, color=[255, 0, 0], thickness=12):\n",
        "    \"\"\"\n",
        "    Draw lines onto the input image.\n",
        "        Parameters:\n",
        "            image: The input test image (video frame in our case).\n",
        "            lines: The output lines from Hough Transform.\n",
        "            color (Default = red): Line color.\n",
        "            thickness (Default = 12): Line thickness.\n",
        "    \"\"\"\n",
        "    line_image = np.zeros_like(image)\n",
        "    for line in lines:\n",
        "        if line is not None:\n",
        "            cv2.line(line_image, *line,  color, thickness)\n",
        "    return cv2.addWeighted(image, 1.0, line_image, 1.0, 0.0)\n",
        "\n",
        "\n",
        "def frame_processor(image):\n",
        "\n",
        "  grayscale = cv2.cvtColor(image, cv2.COLOR_BGR2GRAY)\n",
        "\n",
        "  kernel_size = 5\n",
        "\n",
        "  blur = cv2.GaussianBlur(grayscale, (kernel_size, kernel_size), 0)\n",
        "  low_t = 50\n",
        "\n",
        "  high_t = 150\n",
        "\n",
        "  edges = cv2.Canny(blur, low_t, high_t)\n",
        "\n",
        "  region = region_selection(edges)\n",
        "\n",
        "\n",
        "\n",
        "  hough = hough_transform(region)\n",
        "\n",
        "  result = draw_lane_lines(image, lane_lines(image, hough))\n",
        "  return result\n",
        "\n",
        "def process_video(test_video, output_video):\n",
        "  input_video=editor.VideoFileClip(test_video, audio=False)\n",
        "\n",
        "  processed = input_video.fl_image(frame_processor)\n",
        "\n",
        "  processed.write_videofile(output_video, audio=False)\n",
        "\n",
        "process_video('test2.mp4','output.mp4')\n",
        "\n",
        "\n"
      ],
      "metadata": {
        "colab": {
          "base_uri": "https://localhost:8080/"
        },
        "id": "XNKSMqV_Bizn",
        "outputId": "8e21a7da-31a8-4c07-be9e-45eabe2ca79a"
      },
      "execution_count": 9,
      "outputs": [
        {
          "output_type": "stream",
          "name": "stdout",
          "text": [
            "Moviepy - Building video output.mp4.\n",
            "Moviepy - Writing video output.mp4\n",
            "\n"
          ]
        },
        {
          "output_type": "stream",
          "name": "stderr",
          "text": [
            "t: 100%|█████████▉| 1296/1297 [01:40<00:00, 14.32it/s, now=None]WARNING:py.warnings:/usr/local/lib/python3.10/dist-packages/moviepy/video/io/ffmpeg_reader.py:123: UserWarning: Warning: in file test2.mp4, 2764800 bytes wanted but 0 bytes read,at frame 1295/1298, at time 25.90/25.94 sec. Using the last valid frame instead.\n",
            "  warnings.warn(\"Warning: in file %s, \"%(self.filename)+\n",
            "\n",
            "WARNING:py.warnings:/usr/local/lib/python3.10/dist-packages/moviepy/video/io/ffmpeg_reader.py:123: UserWarning: Warning: in file test2.mp4, 2764800 bytes wanted but 0 bytes read,at frame 1296/1298, at time 25.92/25.94 sec. Using the last valid frame instead.\n",
            "  warnings.warn(\"Warning: in file %s, \"%(self.filename)+\n",
            "\n"
          ]
        },
        {
          "output_type": "stream",
          "name": "stdout",
          "text": [
            "Moviepy - Done !\n",
            "Moviepy - video ready output.mp4\n"
          ]
        }
      ]
    },
    {
      "cell_type": "code",
      "source": [
        "\n",
        "\n"
      ],
      "metadata": {
        "id": "YjWJYz0T9Ly8"
      },
      "execution_count": 5,
      "outputs": []
    }
  ]
}